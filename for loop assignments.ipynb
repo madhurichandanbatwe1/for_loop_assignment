{
 "cells": [
  {
   "cell_type": "code",
   "execution_count": 1,
   "id": "1cf4e6a5",
   "metadata": {},
   "outputs": [],
   "source": [
    "#basic"
   ]
  },
  {
   "cell_type": "markdown",
   "id": "64a275d1",
   "metadata": {},
   "source": [
    "1. Write a Python program to print the numbers from 1 to 10 using a `for` loop."
   ]
  },
  {
   "cell_type": "code",
   "execution_count": 2,
   "id": "4ef69f74",
   "metadata": {},
   "outputs": [
    {
     "name": "stdout",
     "output_type": "stream",
     "text": [
      "1\n",
      "2\n",
      "3\n",
      "4\n",
      "5\n",
      "6\n",
      "7\n",
      "8\n",
      "9\n",
      "10\n"
     ]
    }
   ],
   "source": [
    "for i in range(1,11):\n",
    "    print(i)"
   ]
  },
  {
   "cell_type": "markdown",
   "id": "b988d6e8",
   "metadata": {},
   "source": [
    "2. Create a program that calculates the sum of all numbers in a list using a `for` loop"
   ]
  },
  {
   "cell_type": "code",
   "execution_count": 6,
   "id": "614e8c9e",
   "metadata": {},
   "outputs": [
    {
     "name": "stdout",
     "output_type": "stream",
     "text": [
      "15\n"
     ]
    }
   ],
   "source": [
    "l=[1,2,3,4,5]\n",
    "s=0\n",
    "for i in l:\n",
    "    s=s+i\n",
    "print(s)   "
   ]
  },
  {
   "cell_type": "markdown",
   "id": "e637dfda",
   "metadata": {},
   "source": [
    "3. Write a program to print the characters of a string in reverse order using a `for` loop"
   ]
  },
  {
   "cell_type": "code",
   "execution_count": 12,
   "id": "8190672b",
   "metadata": {},
   "outputs": [
    {
     "data": {
      "text/plain": [
       "'orPecneicSataD ni yduts I'"
      ]
     },
     "execution_count": 12,
     "metadata": {},
     "output_type": "execute_result"
    }
   ],
   "source": [
    "string=\"I study in DataSciencePro\"\n",
    "reverse_string=\"\"\n",
    "for i in range(len(string),0,-1):\n",
    "    reverse_string+=string[i-1]\n",
    "reverse_string    "
   ]
  },
  {
   "cell_type": "markdown",
   "id": "69bd0be5",
   "metadata": {},
   "source": [
    "4. Develop a program that finds the factorial of a given number using a `for` loop"
   ]
  },
  {
   "cell_type": "code",
   "execution_count": 17,
   "id": "e76627d0",
   "metadata": {},
   "outputs": [
    {
     "name": "stdout",
     "output_type": "stream",
     "text": [
      "enter value of n5\n",
      "120\n"
     ]
    }
   ],
   "source": [
    "fact=1\n",
    "n=int(input(\"enter value of n\"))\n",
    "if n<0:\n",
    "    print(\"enter some positive no\")\n",
    "elif n==0:\n",
    "    print(\"fact of 0 is 1\")\n",
    "else:\n",
    "    for i in range(1,n+1):\n",
    "        fact=fact*i\n",
    "print(fact)\n",
    "    \n"
   ]
  },
  {
   "cell_type": "markdown",
   "id": "2b1030ef",
   "metadata": {},
   "source": [
    "5. Create a program to print the multiplication table of a given number using a `for` loop."
   ]
  },
  {
   "cell_type": "code",
   "execution_count": 22,
   "id": "0374b590",
   "metadata": {},
   "outputs": [
    {
     "name": "stdout",
     "output_type": "stream",
     "text": [
      "enter the n11\n",
      "2 X  0 == 0\n",
      "2 X  1 == 2\n",
      "2 X  2 == 4\n",
      "2 X  3 == 6\n",
      "2 X  4 == 8\n",
      "2 X  5 == 10\n",
      "2 X  6 == 12\n",
      "2 X  7 == 14\n",
      "2 X  8 == 16\n",
      "2 X  9 == 18\n",
      "2 X  10 == 20\n"
     ]
    }
   ],
   "source": [
    "n=int(input(\"enter the n\"))\n",
    "for i in range(n):\n",
    "    print(\"2 X \",i,\"==\",2*i)"
   ]
  },
  {
   "cell_type": "markdown",
   "id": "34ec5915",
   "metadata": {},
   "source": [
    "6. Write a program that counts the number of even and odd numbers in a list using a `for` loop"
   ]
  },
  {
   "cell_type": "code",
   "execution_count": 23,
   "id": "db9636ca",
   "metadata": {},
   "outputs": [
    {
     "name": "stdout",
     "output_type": "stream",
     "text": [
      "3 3\n"
     ]
    }
   ],
   "source": [
    "l=[23,24,25,26,27,28]\n",
    "even=0\n",
    "odd=0\n",
    "for i in l:\n",
    "    if i%2==0:\n",
    "        even+=1\n",
    "    else:\n",
    "        odd+=1\n",
    "print(even,odd)"
   ]
  },
  {
   "cell_type": "markdown",
   "id": "3ed92599",
   "metadata": {},
   "source": [
    "7. Develop a program that prints the squares of numbers from 1 to 5 using a `for` loop"
   ]
  },
  {
   "cell_type": "code",
   "execution_count": 25,
   "id": "da1c55da",
   "metadata": {},
   "outputs": [
    {
     "data": {
      "text/plain": [
       "[1, 4, 9, 16]"
      ]
     },
     "execution_count": 25,
     "metadata": {},
     "output_type": "execute_result"
    }
   ],
   "source": [
    "p=[i**2 for i in range(1,5)]\n",
    "p"
   ]
  },
  {
   "cell_type": "markdown",
   "id": "9e313b62",
   "metadata": {},
   "source": [
    "8. Create a program to find the length of a string without using the `len()` function."
   ]
  },
  {
   "cell_type": "code",
   "execution_count": 29,
   "id": "e4ad1046",
   "metadata": {},
   "outputs": [
    {
     "name": "stdout",
     "output_type": "stream",
     "text": [
      "47\n"
     ]
    }
   ],
   "source": [
    "str1=\"I am studying data science and machine learning\"\n",
    "c=0\n",
    "for i in str1:\n",
    "    c+=1\n",
    "print(c)\n"
   ]
  },
  {
   "cell_type": "markdown",
   "id": "23b58d4a",
   "metadata": {},
   "source": [
    "9. Write a program that calculates the average of a list of numbers using a `for` loop"
   ]
  },
  {
   "cell_type": "code",
   "execution_count": 46,
   "id": "42d3e98c",
   "metadata": {},
   "outputs": [
    {
     "data": {
      "text/plain": [
       "3.5"
      ]
     },
     "execution_count": 46,
     "metadata": {},
     "output_type": "execute_result"
    }
   ],
   "source": [
    "l=[2,3,4,5]\n",
    "s=0\n",
    "for i in l:\n",
    "    s=(s+i)\n",
    "average=s/len(l)\n",
    "average"
   ]
  },
  {
   "cell_type": "markdown",
   "id": "b86b4463",
   "metadata": {},
   "source": [
    "10. Develop a program that prints the first `n` Fibonacci numbers using a `for` loop"
   ]
  },
  {
   "cell_type": "code",
   "execution_count": 50,
   "id": "affa7673",
   "metadata": {},
   "outputs": [
    {
     "data": {
      "text/plain": [
       "[0, 1, 1, 2, 3]"
      ]
     },
     "execution_count": 50,
     "metadata": {},
     "output_type": "execute_result"
    }
   ],
   "source": [
    "def fibonacci(n):\n",
    "    fibo=[0,1]\n",
    "    for i in range(2,n):\n",
    "        next_num=fibo[-1]+fibo[-2]\n",
    "        fibo.append(next_num)\n",
    "    return fibo\n",
    "fibonacci(5)"
   ]
  },
  {
   "cell_type": "code",
   "execution_count": 51,
   "id": "903086c8",
   "metadata": {},
   "outputs": [],
   "source": [
    "#intermediate"
   ]
  },
  {
   "cell_type": "markdown",
   "id": "af44950d",
   "metadata": {},
   "source": [
    "1. Write a program to check if a given list contains any duplicates using a `for` loop."
   ]
  },
  {
   "cell_type": "code",
   "execution_count": 59,
   "id": "45273e2a",
   "metadata": {},
   "outputs": [
    {
     "name": "stdout",
     "output_type": "stream",
     "text": [
      "list contains duplicates\n"
     ]
    }
   ],
   "source": [
    "l1=[1,2,3,2,4,5,6,3,5,6,4]\n",
    "def duplicates(l):\n",
    "    s=set()\n",
    "    for i in l1:\n",
    "        if i in s:\n",
    "            return True\n",
    "        s.add(i)\n",
    "    return s\n",
    "if duplicates(l1):\n",
    "    print(\"list contains duplicates\")\n",
    "else:\n",
    "    print(\"list doesnt contains duplicates\")\n",
    "\n"
   ]
  },
  {
   "cell_type": "markdown",
   "id": "4941f121",
   "metadata": {},
   "source": [
    "12. Create a program that prints the prime numbers in a given range using a `for` loop"
   ]
  },
  {
   "cell_type": "code",
   "execution_count": 67,
   "id": "7ebc3586",
   "metadata": {},
   "outputs": [
    {
     "data": {
      "text/plain": [
       "False"
      ]
     },
     "execution_count": 67,
     "metadata": {},
     "output_type": "execute_result"
    }
   ],
   "source": [
    "def prime(n):\n",
    "    for i in range(2,int(n**0.5)+1):\n",
    "        if n%i==0:\n",
    "            return False\n",
    "    return True\n",
    "prime(21)"
   ]
  },
  {
   "cell_type": "markdown",
   "id": "2bd61d56",
   "metadata": {},
   "source": [
    "13. Develop a program that counts the number of vowels in a string using a `for` loop."
   ]
  },
  {
   "cell_type": "code",
   "execution_count": 69,
   "id": "98543c17",
   "metadata": {},
   "outputs": [
    {
     "name": "stdout",
     "output_type": "stream",
     "text": [
      "7\n"
     ]
    }
   ],
   "source": [
    "s=\"I study data science\"\n",
    "v=['a','e','i','o','u','A','E','I','O','U']\n",
    "c=0\n",
    "for i in list(s):\n",
    "    if i in v:\n",
    "        c=c+1\n",
    "print(c)        \n",
    "    "
   ]
  },
  {
   "cell_type": "markdown",
   "id": "93483c5e",
   "metadata": {},
   "source": [
    "14. Write a program to find the maximum element in a 2D list using a nested `for` loop"
   ]
  },
  {
   "cell_type": "code",
   "execution_count": 81,
   "id": "8739a234",
   "metadata": {},
   "outputs": [
    {
     "name": "stdout",
     "output_type": "stream",
     "text": [
      "8\n"
     ]
    }
   ],
   "source": [
    "l=[[2,3,1,4,8]]\n",
    "l1=[]\n",
    "for i in l:\n",
    "    for j in i:\n",
    "        l1.append(j)\n",
    "print(max(l1))"
   ]
  },
  {
   "cell_type": "markdown",
   "id": "9639243f",
   "metadata": {},
   "source": [
    "15. Create a program that removes all occurrences of a specific element from a list using a `for` loop"
   ]
  },
  {
   "cell_type": "code",
   "execution_count": 93,
   "id": "c431d4ed",
   "metadata": {},
   "outputs": [
    {
     "name": "stdout",
     "output_type": "stream",
     "text": [
      "enter element to remove2\n",
      "[1, 3, 4, 5, 3, 6, 8]\n"
     ]
    }
   ],
   "source": [
    "l1=[1,2,3,4,5,2,3,6,8]\n",
    "n=int(input(\"enter element to remove\"))\n",
    "l2=[]\n",
    "for i in l1:\n",
    "    if i!=n:\n",
    "        l2.append(i)\n",
    "print(l2)"
   ]
  },
  {
   "cell_type": "markdown",
   "id": "c1f62e64",
   "metadata": {},
   "source": [
    "16. Develop a program that generates a multiplication table for numbers from 1 to 5 using a nested `for` loop"
   ]
  },
  {
   "cell_type": "code",
   "execution_count": 106,
   "id": "b56a975d",
   "metadata": {},
   "outputs": [
    {
     "name": "stdout",
     "output_type": "stream",
     "text": [
      "\n",
      "1 X 0==0\t\n",
      "1 X 1==1\t\n",
      "1 X 2==2\t\n",
      "1 X 3==3\t\n",
      "1 X 4==4\t\n",
      "1 X 5==5\t\n",
      "1 X 6==6\t\n",
      "1 X 7==7\t\n",
      "1 X 8==8\t\n",
      "1 X 9==9\t\n",
      "1 X 10==10\t\n",
      "\n",
      "2 X 0==0\t\n",
      "2 X 1==2\t\n",
      "2 X 2==4\t\n",
      "2 X 3==6\t\n",
      "2 X 4==8\t\n",
      "2 X 5==10\t\n",
      "2 X 6==12\t\n",
      "2 X 7==14\t\n",
      "2 X 8==16\t\n",
      "2 X 9==18\t\n",
      "2 X 10==20\t\n",
      "\n",
      "3 X 0==0\t\n",
      "3 X 1==3\t\n",
      "3 X 2==6\t\n",
      "3 X 3==9\t\n",
      "3 X 4==12\t\n",
      "3 X 5==15\t\n",
      "3 X 6==18\t\n",
      "3 X 7==21\t\n",
      "3 X 8==24\t\n",
      "3 X 9==27\t\n",
      "3 X 10==30\t\n",
      "\n",
      "4 X 0==0\t\n",
      "4 X 1==4\t\n",
      "4 X 2==8\t\n",
      "4 X 3==12\t\n",
      "4 X 4==16\t\n",
      "4 X 5==20\t\n",
      "4 X 6==24\t\n",
      "4 X 7==28\t\n",
      "4 X 8==32\t\n",
      "4 X 9==36\t\n",
      "4 X 10==40\t\n",
      "\n",
      "5 X 0==0\t\n",
      "5 X 1==5\t\n",
      "5 X 2==10\t\n",
      "5 X 3==15\t\n",
      "5 X 4==20\t\n",
      "5 X 5==25\t\n",
      "5 X 6==30\t\n",
      "5 X 7==35\t\n",
      "5 X 8==40\t\n",
      "5 X 9==45\t\n",
      "5 X 10==50\t\n"
     ]
    }
   ],
   "source": [
    "for i in range(1,6):\n",
    "    print()\n",
    "    for j in range(11):\n",
    "        print(f'{i} X {j}=={i*j}\\t')\n",
    "        "
   ]
  },
  {
   "cell_type": "markdown",
   "id": "e5cea6ba",
   "metadata": {},
   "source": [
    "17. Write a program that converts a list of Fahrenheit temperatures to Celsius using a `for` loop."
   ]
  },
  {
   "cell_type": "code",
   "execution_count": 110,
   "id": "54393d7f",
   "metadata": {},
   "outputs": [
    {
     "name": "stdout",
     "output_type": "stream",
     "text": [
      "[-11.11111111111111, -1.1111111111111112, -3.888888888888889, -8.333333333333334]\n"
     ]
    }
   ],
   "source": [
    "f=[12,30,25,17]\n",
    "temp=[]\n",
    "for i in f:\n",
    "    cel=(i-32)*5/9\n",
    "    temp.append(cel)\n",
    "print(temp)"
   ]
  },
  {
   "cell_type": "markdown",
   "id": "11fee843",
   "metadata": {},
   "source": [
    "18. Create a program to print the common elements from two lists using a `for` loop"
   ]
  },
  {
   "cell_type": "code",
   "execution_count": 112,
   "id": "905d8f53",
   "metadata": {},
   "outputs": [
    {
     "name": "stdout",
     "output_type": "stream",
     "text": [
      "[2, 3, 4]\n"
     ]
    }
   ],
   "source": [
    "l1=[2,3,4,5,6]\n",
    "l2=[2,3,4]\n",
    "l3=[]\n",
    "for i in l1:\n",
    "    if i in l2:\n",
    "        l3.append(i)\n",
    "print(l3)"
   ]
  },
  {
   "cell_type": "markdown",
   "id": "7acb6c91",
   "metadata": {},
   "source": [
    "19. Develop a program that prints the pattern of right-angled triangles using a `for` loop. Use ‘*’ to draw the pattern"
   ]
  },
  {
   "cell_type": "code",
   "execution_count": 122,
   "id": "f6877c37",
   "metadata": {},
   "outputs": [
    {
     "name": "stdout",
     "output_type": "stream",
     "text": [
      "enter the value of n5\n",
      "* \n",
      "* * \n",
      "* * * \n",
      "* * * * \n",
      "* * * * * \n",
      "* * * * * * \n"
     ]
    }
   ],
   "source": [
    "n=int(input(\"enter the value of n\"))\n",
    "for i in range(n+1):\n",
    "    for j in range(i+1):\n",
    "        print(\"*\",end=\" \")\n",
    "    print()"
   ]
  },
  {
   "cell_type": "markdown",
   "id": "bf7e331b",
   "metadata": {},
   "source": [
    "20. Write a program to find the greatest common divisor (GCD) of two numbers using a `for` loop"
   ]
  },
  {
   "cell_type": "code",
   "execution_count": 132,
   "id": "c997e39f",
   "metadata": {},
   "outputs": [
    {
     "data": {
      "text/plain": [
       "8"
      ]
     },
     "execution_count": 132,
     "metadata": {},
     "output_type": "execute_result"
    }
   ],
   "source": [
    "def gcd(a,b):\n",
    "    gcd_result=1\n",
    "    for i in range(1,min(a,b)+1):\n",
    "        if a%i==0 and b%i==0:\n",
    "            gcd_result=i\n",
    "    return gcd_result\n",
    "gcd(24,32)"
   ]
  },
  {
   "cell_type": "code",
   "execution_count": 1,
   "id": "f4f63bb5",
   "metadata": {},
   "outputs": [],
   "source": [
    "#advanced"
   ]
  },
  {
   "cell_type": "markdown",
   "id": "777825f8",
   "metadata": {},
   "source": [
    "21. Create a program that calculates the sum of the digits of numbers in a list using a list comprehension"
   ]
  },
  {
   "cell_type": "code",
   "execution_count": 7,
   "id": "925ca3e9",
   "metadata": {},
   "outputs": [
    {
     "data": {
      "text/plain": [
       "10"
      ]
     },
     "execution_count": 7,
     "metadata": {},
     "output_type": "execute_result"
    }
   ],
   "source": [
    "l1=[1,2,3,4]\n",
    "z=sum([i for i in l1])\n",
    "z"
   ]
  },
  {
   "cell_type": "markdown",
   "id": "d188b345",
   "metadata": {},
   "source": [
    "22. Write a program to find the prime factors of a given number using a `for` loop and list comprehension"
   ]
  },
  {
   "cell_type": "code",
   "execution_count": 8,
   "id": "a76cae43",
   "metadata": {},
   "outputs": [
    {
     "name": "stdout",
     "output_type": "stream",
     "text": [
      "Prime factors of 84 are: [2, 2, 3, 3, 3, 3, 3, 3, 3, 3, 3, 3, 3, 3, 3, 3, 3, 3, 3, 3, 3, 3, 3, 3, 21]\n"
     ]
    }
   ],
   "source": [
    "def prime_factors(n):\n",
    "    factors = []\n",
    "    \n",
    "    # Check for 2 as a factor repeatedly until it's no longer divisible\n",
    "    while n % 2 == 0:\n",
    "        factors.append(2)\n",
    "        n //= 2\n",
    "    \n",
    "    # Check for other odd factors starting from 3\n",
    "    [factors.append(i) for i in range(3, int(n**0.5) + 1, 2) if [factors.append(i) for _ in range(n) if n % i == 0]]\n",
    "    \n",
    "    # If n is still greater than 2, it's also a prime factor\n",
    "    if n > 2:\n",
    "        factors.append(n)\n",
    "    \n",
    "    return factors\n",
    "\n",
    "# Example usage:\n",
    "number = 84\n",
    "print(\"Prime factors of\", number, \"are:\", prime_factors(number))\n",
    "\n",
    "    "
   ]
  },
  {
   "cell_type": "markdown",
   "id": "90b12503",
   "metadata": {},
   "source": [
    "23. Develop a program that extracts unique elements from a list and stores them in a new list using a list comprehension."
   ]
  },
  {
   "cell_type": "code",
   "execution_count": 21,
   "id": "3774a5aa",
   "metadata": {},
   "outputs": [
    {
     "data": {
      "text/plain": [
       "[1, 2, 3, 4, 5, 6, 7]"
      ]
     },
     "execution_count": 21,
     "metadata": {},
     "output_type": "execute_result"
    }
   ],
   "source": [
    "l1=[1,2,3,4,5,6,2,3,6,7]\n",
    "l2=[]\n",
    "[x for i,x in enumerate(l1) if x not in l1[:i]]"
   ]
  },
  {
   "cell_type": "markdown",
   "id": "fb56ea77",
   "metadata": {},
   "source": [
    "24. Create a program that generates a list of all palindromic numbers up to a specified limit using a list comprehension."
   ]
  },
  {
   "cell_type": "code",
   "execution_count": 24,
   "id": "64fb41a1",
   "metadata": {},
   "outputs": [
    {
     "data": {
      "text/plain": [
       "[0,\n",
       " 1,\n",
       " 2,\n",
       " 3,\n",
       " 4,\n",
       " 5,\n",
       " 6,\n",
       " 7,\n",
       " 8,\n",
       " 9,\n",
       " 11,\n",
       " 22,\n",
       " 33,\n",
       " 44,\n",
       " 55,\n",
       " 66,\n",
       " 77,\n",
       " 88,\n",
       " 99,\n",
       " 101,\n",
       " 111,\n",
       " 121,\n",
       " 131,\n",
       " 141,\n",
       " 151,\n",
       " 161,\n",
       " 171,\n",
       " 181,\n",
       " 191]"
      ]
     },
     "execution_count": 24,
     "metadata": {},
     "output_type": "execute_result"
    }
   ],
   "source": [
    "[i for i in range(200) if str(i)==str(i)[::-1]]"
   ]
  },
  {
   "cell_type": "markdown",
   "id": "f1c616c6",
   "metadata": {},
   "source": [
    "25. Write a program to flatten a nested list using list comprehension."
   ]
  },
  {
   "cell_type": "code",
   "execution_count": 28,
   "id": "a7960a9d",
   "metadata": {},
   "outputs": [
    {
     "name": "stdout",
     "output_type": "stream",
     "text": [
      "Original nested list: [1, 2, 3, [4, 2, 5]]\n",
      "Flattened list: [1, 2, 3, 4, 2, 5]\n"
     ]
    }
   ],
   "source": [
    "\n",
    "# Original nested list\n",
    "l = [1, 2, 3, [4, 2, 5]]\n",
    "\n",
    "# Flatten the nested list using list comprehension\n",
    "flattened_list = [item for sublist in l for subsublist in ([sublist] if isinstance(sublist, list) else [sublist]) for item in (subsublist if isinstance(subsublist, list) else [subsublist])]\n",
    "\n",
    "# Print the flattened list\n",
    "print(\"Original nested list:\", l)\n",
    "print(\"Flattened list:\", flattened_list)\n"
   ]
  },
  {
   "cell_type": "markdown",
   "id": "5f418c52",
   "metadata": {},
   "source": [
    "26. Develop a program that computes the sum of even and odd numbers in a list separately using list \n",
    "comprehension"
   ]
  },
  {
   "cell_type": "code",
   "execution_count": 30,
   "id": "783feb76",
   "metadata": {},
   "outputs": [
    {
     "data": {
      "text/plain": [
       "164"
      ]
     },
     "execution_count": 30,
     "metadata": {},
     "output_type": "execute_result"
    }
   ],
   "source": [
    "l=[1,2,3,8,9,23,34,22,98]\n",
    "z_even=sum([i for i in l if i%2==0])\n",
    "z_even"
   ]
  },
  {
   "cell_type": "code",
   "execution_count": 31,
   "id": "a042b59f",
   "metadata": {},
   "outputs": [
    {
     "data": {
      "text/plain": [
       "200"
      ]
     },
     "execution_count": 31,
     "metadata": {},
     "output_type": "execute_result"
    }
   ],
   "source": [
    "z_odd=sum([i for i in l if i!=0])\n",
    "z_odd"
   ]
  },
  {
   "cell_type": "markdown",
   "id": "2e3ffb2b",
   "metadata": {},
   "source": [
    "27. Create a program that generates a list of squares of odd numbers between 1 and 10 using list \n",
    "comprehension"
   ]
  },
  {
   "cell_type": "code",
   "execution_count": 32,
   "id": "006712be",
   "metadata": {},
   "outputs": [
    {
     "data": {
      "text/plain": [
       "[1, 9, 25, 49, 81]"
      ]
     },
     "execution_count": 32,
     "metadata": {},
     "output_type": "execute_result"
    }
   ],
   "source": [
    "[i**2 for i in range(1,11) if i%2!=0]"
   ]
  },
  {
   "cell_type": "markdown",
   "id": "4da47664",
   "metadata": {},
   "source": [
    "28. Write a program that combines two lists into a dictionary using list comprehension"
   ]
  },
  {
   "cell_type": "code",
   "execution_count": 46,
   "id": "03209586",
   "metadata": {},
   "outputs": [
    {
     "data": {
      "text/plain": [
       "{'a': 1, 'b': 2, 'c': 3, 'd': 4}"
      ]
     },
     "execution_count": 46,
     "metadata": {},
     "output_type": "execute_result"
    }
   ],
   "source": [
    "l1=['a','b','c','d']\n",
    "l2=[1,2,3,4]\n",
    "\n",
    "\n",
    "{k:v for k,v in zip(l1,l2)}"
   ]
  },
  {
   "cell_type": "raw",
   "id": "5e16fa18",
   "metadata": {},
   "source": [
    "29. Develop a program that extracts the vowels from a string and stores them in a list using list comprehension"
   ]
  },
  {
   "cell_type": "code",
   "execution_count": 47,
   "id": "edf90a7b",
   "metadata": {},
   "outputs": [
    {
     "data": {
      "text/plain": [
       "['I', 'u', 'a', 'a', 'i', 'e', 'e']"
      ]
     },
     "execution_count": 47,
     "metadata": {},
     "output_type": "execute_result"
    }
   ],
   "source": [
    "st=\"I study Data Science\"\n",
    "v=['a','e','i','o','u','A','E','I','O','U']\n",
    "[i for i in list(st) if i in v]"
   ]
  },
  {
   "cell_type": "markdown",
   "id": "fe025c1d",
   "metadata": {},
   "source": [
    "30. Create a program that removes all non-numeric characters from a list of strings using list comprehension.\n",
    "\n",
    " "
   ]
  },
  {
   "cell_type": "code",
   "execution_count": 50,
   "id": "1fc01f6b",
   "metadata": {},
   "outputs": [
    {
     "data": {
      "text/plain": [
       "['I', 'study', 'between', 'to']"
      ]
     },
     "execution_count": 50,
     "metadata": {},
     "output_type": "execute_result"
    }
   ],
   "source": [
    "string=\"I study between 8 to 9\"\n",
    "[i for i in string.split() if i.isdigit()==False]  "
   ]
  },
  {
   "cell_type": "code",
   "execution_count": 51,
   "id": "6f005b9d",
   "metadata": {},
   "outputs": [],
   "source": [
    "#Challenge level"
   ]
  },
  {
   "cell_type": "markdown",
   "id": "74d948bf",
   "metadata": {},
   "source": [
    "31. Write a program to generate a list of prime numbers using the Sieve of Eratosthenes algorithm and list comprehension"
   ]
  },
  {
   "cell_type": "code",
   "execution_count": 110,
   "id": "08c6acf3",
   "metadata": {},
   "outputs": [
    {
     "name": "stdout",
     "output_type": "stream",
     "text": [
      "Enter the limit to generate prime numbers: 8\n",
      "Prime numbers up to limit 8 are:\n",
      "[2, 3, 5, 7]\n"
     ]
    }
   ],
   "source": [
    "def sieve_of_eratosthenes(limit):\n",
    "    sieve = [True] * (limit + 1)\n",
    "    sieve[0] = sieve[1] = False\n",
    "\n",
    "    for i in range(2, int(limit**0.5) + 1):\n",
    "        if sieve[i]:\n",
    "            sieve[i*i : limit + 1 : i] = [False] * len(range(i*i, limit + 1, i))\n",
    "\n",
    "    primes = [i for i in range(limit + 1) if sieve[i]]\n",
    "    return primes\n",
    "\n",
    "limit = int(input(\"Enter the limit to generate prime numbers: \"))\n",
    "prime_numbers = sieve_of_eratosthenes(limit)\n",
    "print(\"Prime numbers up to limit\", limit, \"are:\")\n",
    "print(prime_numbers)\n"
   ]
  },
  {
   "cell_type": "markdown",
   "id": "0389bf13",
   "metadata": {},
   "source": [
    "32. Create a program that generates a list of all Pythagorean triplets up to a specified limit using list comprehension"
   ]
  },
  {
   "cell_type": "code",
   "execution_count": 109,
   "id": "eeb5a24e",
   "metadata": {},
   "outputs": [
    {
     "name": "stdout",
     "output_type": "stream",
     "text": [
      "Enter the limit for generating Pythagorean triplets: 5\n",
      "Pythagorean triplets up to limit 5 are:\n",
      "(3, 4, 5.0)\n"
     ]
    }
   ],
   "source": [
    "def generate_pythagorean_triplets(limit):\n",
    "    triplets = [(a, b, (a**2 + b**2)**0.5) for a in range(1, limit) for b in range(a, limit) if (a**2 + b**2)**0.5 % 1 == 0]\n",
    "    return triplets\n",
    "\n",
    "limit = int(input(\"Enter the limit for generating Pythagorean triplets: \"))\n",
    "triplets = generate_pythagorean_triplets(limit)\n",
    "print(\"Pythagorean triplets up to limit\", limit, \"are:\")\n",
    "for triplet in triplets:\n",
    "    print(triplet)\n"
   ]
  },
  {
   "cell_type": "markdown",
   "id": "9e1f5025",
   "metadata": {},
   "source": [
    "33. Develop a program that generates a list of all possible combinations of two lists using list comprehension"
   ]
  },
  {
   "cell_type": "code",
   "execution_count": 53,
   "id": "12162651",
   "metadata": {},
   "outputs": [
    {
     "data": {
      "text/plain": [
       "[(1, 'a'),\n",
       " (1, 'b'),\n",
       " (1, 'c'),\n",
       " (1, 'd'),\n",
       " (2, 'a'),\n",
       " (2, 'b'),\n",
       " (2, 'c'),\n",
       " (2, 'd'),\n",
       " (3, 'a'),\n",
       " (3, 'b'),\n",
       " (3, 'c'),\n",
       " (3, 'd'),\n",
       " (4, 'a'),\n",
       " (4, 'b'),\n",
       " (4, 'c'),\n",
       " (4, 'd'),\n",
       " (5, 'a'),\n",
       " (5, 'b'),\n",
       " (5, 'c'),\n",
       " (5, 'd')]"
      ]
     },
     "execution_count": 53,
     "metadata": {},
     "output_type": "execute_result"
    }
   ],
   "source": [
    "l1=[1,2,3,4,5]\n",
    "l2=['a','b','c','d']\n",
    "comb=[(x,y) for x in l1 for y in l2]\n",
    "comb"
   ]
  },
  {
   "cell_type": "markdown",
   "id": "aeec6f11",
   "metadata": {},
   "source": [
    "34. Write a program that calculates the mean, median, and mode of a list of numbers using list \n",
    "comprehension."
   ]
  },
  {
   "cell_type": "code",
   "execution_count": 57,
   "id": "3ab7efc5",
   "metadata": {},
   "outputs": [
    {
     "data": {
      "text/plain": [
       "66.0"
      ]
     },
     "execution_count": 57,
     "metadata": {},
     "output_type": "execute_result"
    }
   ],
   "source": [
    "l=[45,34,98,87]\n",
    "sum1=sum([i for i in l])\n",
    "mean=sum1/len(l)\n",
    "mean"
   ]
  },
  {
   "cell_type": "code",
   "execution_count": 65,
   "id": "e944ea33",
   "metadata": {},
   "outputs": [
    {
     "data": {
      "text/plain": [
       "66.0"
      ]
     },
     "execution_count": 65,
     "metadata": {},
     "output_type": "execute_result"
    }
   ],
   "source": [
    "n=len(sorted(l))\n",
    "sorted_numbers=sorted(l)\n",
    "median = (sorted_numbers[n//2] + sorted_numbers[(n-1)//2]) / 2 if n % 2 == 0 else sorted_numbers[n//2]\n",
    "median"
   ]
  },
  {
   "cell_type": "code",
   "execution_count": 59,
   "id": "3508ec2a",
   "metadata": {},
   "outputs": [
    {
     "data": {
      "text/plain": [
       "45"
      ]
     },
     "execution_count": 59,
     "metadata": {},
     "output_type": "execute_result"
    }
   ],
   "source": [
    "from collections import Counter\n",
    "mode = Counter(l).most_common(1)[0][0]\n",
    "mode"
   ]
  },
  {
   "cell_type": "markdown",
   "id": "003df91f",
   "metadata": {},
   "source": [
    "35. Create a program that generates Pascal's triangle up to a specified number of rows using list \n",
    "comprehension."
   ]
  },
  {
   "cell_type": "code",
   "execution_count": 108,
   "id": "bf81bef2",
   "metadata": {},
   "outputs": [
    {
     "name": "stdout",
     "output_type": "stream",
     "text": [
      "Enter the number of rows for Pascal's triangle: 4\n",
      "Pascal's triangle with 4 rows:\n",
      "     1      \n",
      "    1 1     \n",
      "   1 2 1    \n",
      "  1 3 3 1   \n"
     ]
    }
   ],
   "source": [
    "def generate_pascals_triangle(num_rows):\n",
    "    triangle = []\n",
    "\n",
    "    for row_num in range(num_rows):\n",
    "        row = [1]  # First element of each row is always 1\n",
    "        if row_num > 0:\n",
    "            # Calculate each element of the row based on the previous row\n",
    "            for j in range(1, row_num):\n",
    "                row.append(triangle[row_num - 1][j - 1] + triangle[row_num - 1][j])\n",
    "            row.append(1)  # Last element of each row is always 1\n",
    "        triangle.append(row)\n",
    "\n",
    "    return triangle\n",
    "\n",
    "def print_pascals_triangle(triangle):\n",
    "    for row in triangle:\n",
    "        print(' '.join(map(str, row)).center(len(triangle[-1]) * 3))\n",
    "\n",
    "num_rows = int(input(\"Enter the number of rows for Pascal's triangle: \"))\n",
    "triangle = generate_pascals_triangle(num_rows)\n",
    "print(\"Pascal's triangle with\", num_rows, \"rows:\")\n",
    "print_pascals_triangle(triangle)\n"
   ]
  },
  {
   "cell_type": "markdown",
   "id": "a6afee96",
   "metadata": {},
   "source": [
    "36. Develop a program that calculates the sum of the digits of a factorial of numbers from 1 to 5 using list \n",
    "comprehension."
   ]
  },
  {
   "cell_type": "code",
   "execution_count": 107,
   "id": "133d0716",
   "metadata": {},
   "outputs": [
    {
     "name": "stdout",
     "output_type": "stream",
     "text": [
      "18\n"
     ]
    }
   ],
   "source": [
    "def fact(n):\n",
    "    fact=1\n",
    "    \n",
    "    for i in range(1,n+1):\n",
    "        fact=fact*i\n",
    "        \n",
    "    return fact\n",
    "def sum_of_digits(n):\n",
    "    z=sum(int(i) for i in str(n))\n",
    "    return z\n",
    "factorial_sum=0\n",
    "for i in range(1,6):\n",
    "    \n",
    "    factorial_sum+=sum_of_digits(fact(i))\n",
    "print(factorial_sum)   "
   ]
  },
  {
   "cell_type": "markdown",
   "id": "fa985de1",
   "metadata": {},
   "source": [
    "37. Write a program that finds the longest word in a sentence using list comprehension"
   ]
  },
  {
   "cell_type": "code",
   "execution_count": 90,
   "id": "21afd8a0",
   "metadata": {},
   "outputs": [
    {
     "data": {
      "text/plain": [
       "'FullStackDataSciencePro'"
      ]
     },
     "execution_count": 90,
     "metadata": {},
     "output_type": "execute_result"
    }
   ],
   "source": [
    "str1=\"I study FullStackDataSciencePro\"\n",
    "z=str1.split()\n",
    "long=\"\"\n",
    "for word in z:\n",
    "    if len(word)>len(long):\n",
    "        long=word\n",
    "long    \n",
    "    "
   ]
  },
  {
   "cell_type": "code",
   "execution_count": 94,
   "id": "bf199b64",
   "metadata": {},
   "outputs": [
    {
     "data": {
      "text/plain": [
       "'FullStackDataSciencePro'"
      ]
     },
     "execution_count": 94,
     "metadata": {},
     "output_type": "execute_result"
    }
   ],
   "source": [
    "long=max(z,key=len)\n",
    "long"
   ]
  },
  {
   "cell_type": "markdown",
   "id": "790071bc",
   "metadata": {},
   "source": [
    "38. Create a program that filters a list of strings to include only those with more than three vowels using list \n",
    "comprehension."
   ]
  },
  {
   "cell_type": "code",
   "execution_count": 85,
   "id": "72911d53",
   "metadata": {},
   "outputs": [
    {
     "name": "stdout",
     "output_type": "stream",
     "text": [
      "Data Pro\n"
     ]
    }
   ],
   "source": [
    "str1=['Data Science Pro','Full stack Data Science','Data Pro']\n",
    "v=['a','e','i','o','u','A','E','I','O','U']\n",
    "\n",
    "for i in str1:\n",
    "    c=0\n",
    "    for j in i:\n",
    "        if j in v:\n",
    "            c+=1\n",
    "    if c==3:\n",
    "        print(i)\n",
    "        "
   ]
  },
  {
   "cell_type": "code",
   "execution_count": 87,
   "id": "53ea5f29",
   "metadata": {},
   "outputs": [
    {
     "data": {
      "text/plain": [
       "['Data Pro']"
      ]
     },
     "execution_count": 87,
     "metadata": {},
     "output_type": "execute_result"
    }
   ],
   "source": [
    "[i for i in str1 if sum(1 for j in i if j in v)==3]"
   ]
  },
  {
   "cell_type": "markdown",
   "id": "356745cb",
   "metadata": {},
   "source": [
    "39. Develop a program that calculates the sum of the digits of numbers from 1 to 1000 using list \n",
    "comprehension"
   ]
  },
  {
   "cell_type": "code",
   "execution_count": 80,
   "id": "e1dd0c5a",
   "metadata": {},
   "outputs": [
    {
     "data": {
      "text/plain": [
       "500500"
      ]
     },
     "execution_count": 80,
     "metadata": {},
     "output_type": "execute_result"
    }
   ],
   "source": [
    "sum_of_digits=sum([i for i in range(1,1001)])\n",
    "sum_of_digits"
   ]
  },
  {
   "cell_type": "markdown",
   "id": "d9a6af49",
   "metadata": {},
   "source": [
    "40. Write a program that generates a list of prime palindromic numbers using list comprehension"
   ]
  },
  {
   "cell_type": "code",
   "execution_count": 77,
   "id": "35f7a2b0",
   "metadata": {},
   "outputs": [
    {
     "name": "stdout",
     "output_type": "stream",
     "text": [
      "[2, 3, 5, 7, 11, 101, 131, 151, 181, 191]\n"
     ]
    }
   ],
   "source": [
    "def palindromic(n):\n",
    "    p = [x for x in range(n) if str(x) == str(x)[::-1]]\n",
    "    return p\n",
    "\n",
    "def is_prime(num):\n",
    "    if num < 2:\n",
    "        return False\n",
    "    for i in range(2, int(num**0.5) + 1):\n",
    "        if num % i == 0:\n",
    "            return False\n",
    "    return True\n",
    "\n",
    "def prime(n):\n",
    "    p1 = [i for i in range(2, n) if is_prime(i)]\n",
    "    return p1\n",
    "\n",
    "prime_palindromic = [i for i in palindromic(200) if i in prime(200)]\n",
    "print(prime_palindromic)\n"
   ]
  },
  {
   "cell_type": "code",
   "execution_count": null,
   "id": "0cb58b9c",
   "metadata": {},
   "outputs": [],
   "source": []
  }
 ],
 "metadata": {
  "kernelspec": {
   "display_name": "Python 3 (ipykernel)",
   "language": "python",
   "name": "python3"
  },
  "language_info": {
   "codemirror_mode": {
    "name": "ipython",
    "version": 3
   },
   "file_extension": ".py",
   "mimetype": "text/x-python",
   "name": "python",
   "nbconvert_exporter": "python",
   "pygments_lexer": "ipython3",
   "version": "3.9.13"
  }
 },
 "nbformat": 4,
 "nbformat_minor": 5
}
